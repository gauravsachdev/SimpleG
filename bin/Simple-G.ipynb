{
 "cells": [
  {
   "cell_type": "code",
   "execution_count": 1,
   "metadata": {},
   "outputs": [
    {
     "data": {
      "text/html": [
       "<!-- style.html: General app CSS -->\n",
       "<style>\n",
       ".jupyter-widgets.widget-tab > .p-TabBar .p-TabBar-tab {\n",
       "    flex              : 0 1 300px\n",
       "}\n",
       ".p-Collapse-header {\n",
       "    color             : white !important;\n",
       "    background-color  : steelblue !important;\n",
       "    padding-top       : 3px;\n",
       "    padding-bottom    : 3px;\n",
       "}\n",
       ".p-TabBar-tabLabel {\n",
       "    font-weight       : bold !important;\n",
       "    color             : steelblue !important;\n",
       "    margin-top        : 1em !important;\n",
       "    margin-bottom     : 1em !important;\n",
       "}\n",
       ".widget-label {\n",
       "    text-align        : right;\n",
       "}\n",
       "p {\n",
       "    line-height       : 1.2em;\n",
       "    margin-bottom     : 1em;\n",
       "}\n",
       "/* Avoid output scrollbars (sub-windowing) */\n",
       ".output_wrapper, .output {\n",
       "    height            : auto !important;\n",
       "    max-height        : 99999px;\n",
       "}\n",
       ".output_scroll {\n",
       "    box-shadow        : none !important;\n",
       "    webkit-box-shadow : none !important;\n",
       "    /* height            : 44em;   Expand output cells */\n",
       "}\n",
       "#site {\n",
       "    height            : 100% !important;\n",
       "}\n",
       ".prompt {\n",
       "    min-width         : 1px !important; /* Collapse left margin */\n",
       "}\n",
       "pre {\n",
       "    user-select       : all;\n",
       "}\n",
       "img {\n",
       "  display: block;\n",
       "  margin-left: auto;\n",
       "  margin-right: auto;\n",
       " }\n",
       "</style>"
      ],
      "text/plain": [
       "<IPython.core.display.HTML object>"
      ]
     },
     "metadata": {},
     "output_type": "display_data"
    },
    {
     "data": {
      "text/html": [
       "<!-- header.html: Notebook-specific CSS and title -->\n",
       "<style>\n",
       ".this_nb_title {\n",
       "    font-weight      : bold;\n",
       "    color            : steelblue;\n",
       "    background-color : transparent;\n",
       "    font-size        : 22px;\n",
       "    border           : 0px;\n",
       "    padding          : 0px;\n",
       "}\n",
       "/* Cause plotly to display \"modebar\" */\n",
       ".container {\n",
       "    min-width        : 1200px !important;\n",
       "}\n",
       "</style>\n",
       "<span class=\"this_nb_title\">SimpleG-US</span>"
      ],
      "text/plain": [
       "<IPython.core.display.HTML object>"
      ]
     },
     "metadata": {},
     "output_type": "display_data"
    },
    {
     "data": {
      "application/vnd.jupyter.widget-view+json": {
       "model_id": "26a2d0872ce44be5b4494227245ac094",
       "version_major": 2,
       "version_minor": 0
      },
      "text/plain": [
       "Tab(children=(VBox(children=(Accordion(children=(VBox(children=(VBox(children=(VBox(children=(Label(value='Ins…"
      ]
     },
     "metadata": {},
     "output_type": "display_data"
    },
    {
     "name": "stdout",
     "output_type": "stream",
     "text": [
      "(Accordion(children=(HBox(children=(VBox(children=(Dropdown(description='System Component:', options=('-', 'Environment', 'Production'), style=DescriptionStyle(description_width='initial'), value='-'), Dropdown(description='Spatial Resolution:', options=('-', 'Geospatial', 'Regional', 'Global'), style=DescriptionStyle(description_width='initial'), value='-'), Dropdown(description='Model Selection:', options=('-', 'Names'), style=DescriptionStyle(description_width='initial'), value='-'), Dropdown(description='Result to View:', options=('-', 'Irrigated', 'Rainfed'), style=DescriptionStyle(description_width='initial'), value='-'), Dropdown(description='Type of Result:', options=('-', 'Absolute Changes', 'Base Value', 'Updated Value', 'Percent Changes'), style=DescriptionStyle(description_width='initial'), value='-'), IntRangeSlider(value=(0, 100), continuous_update=False, description='Range of display', style=SliderStyle(description_width='initial')), Button(description='SUBMIT', disabled=True, style=ButtonStyle())), layout=Layout(align_items='center', display='flex', flex_flow='column', width='80%')), HTML(value='Long Name will be displayed here'))),), _titles={'0': 'Select Options for displaying maps'}), Accordion(children=(VBox(children=(CustomMap(center=[39.5, -98.35], controls=(AttributionControl(options=['position', 'prefix'], position='bottomright'), WidgetControl(options=['position', 'transparent_bg'], position='bottomleft', widget=LegendBar()), ZoomControl(options=['position', 'zoom_in_text', 'zoom_in_title', 'zoom_out_text', 'zoom_out_title']), FullScreenControl(options=['position']), DrawControl(options=['position'], polygon={'shapeOptions': {}}), LayersControl(options=['position'], position='topright'), WidgetControl(options=['position', 'transparent_bg'], position='bottomright', widget=VBox(children=(HTML(value='Coordinates: -'), HTML(value='Value: -'), VBox(children=(HTML(value='Continuos update:'), Checkbox(value=False)))), layout=Layout(height='55px', min_width='174px', padding='4px 4px 4px 4px')))), crs={'name': 'EPSG3857', 'custom': False}, default_style=MapStyle(), dragging_style=MapStyle(cursor='move'), layers=(TileLayer(base=True, max_zoom=19, min_zoom=1, options=['attribution', 'detect_retina', 'max_native_zoom', 'max_zoom', 'min_native_zoom', 'min_zoom', 'no_wrap', 'tile_size', 'tms']),), layout=Layout(height='720px', margin='8px 0px 0px 0px', width='1200px'), options=['bounce_at_zoom_limits', 'box_zoom', 'center', 'close_popup_on_click', 'double_click_zoom', 'dragging', 'fullscreen', 'inertia', 'inertia_deceleration', 'inertia_max_speed', 'interpolation', 'keyboard', 'keyboard_pan_offset', 'keyboard_zoom_offset', 'max_zoom', 'min_zoom', 'scroll_wheel_zoom', 'tap', 'tap_tolerance', 'touch_zoom', 'world_copy_jump', 'zoom', 'zoom_animation_threshold', 'zoom_delta', 'zoom_snap', 'zoom_start'], scroll_wheel_zoom=True, style=MapStyle(), world_copy_jump=True, zoom=4.0),)),), _titles={'0': 'Map ID(Private Job): 8'}))\n",
      "/home/mygeohub/sachdevg/SimpleGTool/job/8/outputs/results/Environment/Geospatial/p_LEACHINTgl/PCT/p_LEACHINTgl_rainfed.tif\n",
      "filtering succeeded\n",
      "min, max (-8.7984657287598, 23.822071075439)\n",
      "tile folder /home/mygeohub/sachdevg/SimpleGTool/job/8/outputs/results/Environment/Geospatial/p_LEACHINTgl/PCT/p_LEACHINTgl_rainfed\n",
      "Generating Base Tiles:\n",
      "0...10...20...30...40...50...60...70...80...90...100\n",
      "Generating Overview Tiles:\n",
      "0...10...20...30...40...50...60...70...80...90...100\n"
     ]
    }
   ],
   "source": [
    "#Import from scripts folder\n",
    "from scripts import model      as sg_model\n",
    "from scripts import view       as sg_view\n",
    "from scripts import controller as sg_controller\n",
    "\n",
    "from IPython.display import HTML\n",
    "\n",
    "display(HTML(filename='style.html'))  # Generic app appearance \n",
    "display(HTML(filename='header.html')) # Notebook-specific title and style\n",
    "\n",
    "# Create MVC objects\n",
    "model = sg_model.Model()\n",
    "view  = sg_view.View()\n",
    "ctrl  = sg_controller.Controller(log_mode=0) # 0=none 1=info 2=debug\n",
    "\n",
    "# Inform MVC objects of each other\n",
    "model.intro(view,ctrl)\n",
    "view.intro(model,ctrl)\n",
    "ctrl.intro(model,view)\n",
    "\n",
    "# Run the notebook\n",
    "ctrl.start()"
   ]
  },
  {
   "cell_type": "code",
   "execution_count": null,
   "metadata": {},
   "outputs": [],
   "source": []
  }
 ],
 "metadata": {
  "kernelspec": {
   "display_name": "Python3 (qgis)",
   "language": "python",
   "name": "qgis"
  },
  "language_info": {
   "codemirror_mode": {
    "name": "ipython",
    "version": 3
   },
   "file_extension": ".py",
   "mimetype": "text/x-python",
   "name": "python",
   "nbconvert_exporter": "python",
   "pygments_lexer": "ipython3",
   "version": "3.8.3"
  }
 },
 "nbformat": 4,
 "nbformat_minor": 4
}

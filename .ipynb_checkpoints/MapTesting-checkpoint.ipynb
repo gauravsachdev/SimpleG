{
 "cells": [
  {
   "cell_type": "code",
   "execution_count": 1,
   "metadata": {},
   "outputs": [
    {
     "data": {
      "application/vnd.jupyter.widget-view+json": {
       "model_id": "0adea106323d498e96ae388c19b7e263",
       "version_major": 2,
       "version_minor": 0
      },
      "text/plain": [
       "VBox(children=(CustomMap(center=[39.5, -98.35], controls=(AttributionControl(options=['position', 'prefix'], p…"
      ]
     },
     "metadata": {},
     "output_type": "display_data"
    }
   ],
   "source": [
    "from scripts.mapwidget import CustomMap\n",
    "from ipyleaflet import Map, Marker, basemaps, basemap_to_tiles\n",
    "import ipywidgets as ui\n",
    "import ipyleaflet\n",
    "\n",
    "map_wid = CustomMap(\"720px\",\"614px\")\n",
    "\n",
    "map_wid.world_copy_jump = True\n",
    "\n",
    "mapbox=ui.VBox(children=[map_wid])\n",
    "#marker=Marker(location=(39.5, -98.35))\n",
    "#map_wid.add_layer(marker)\n",
    "\n",
    "\n",
    "#def on_location_changed(event):\n",
    "#    #map_wid._update_value(marker.location[0],marker.location[1])\n",
    "#    #print(marker.location)\n",
    "\n",
    "\n",
    "#marker.observe(on_location_changed,'location')\n",
    "mapbox\n",
    "\n",
    "\n"
   ]
  },
  {
   "cell_type": "code",
   "execution_count": 4,
   "metadata": {},
   "outputs": [
    {
     "name": "stdout",
     "output_type": "stream",
     "text": [
      "/home/mygeohub/sachdevg/SimpleGTool/job/3/outputs/results/Environment/Geospatial/p_QNITROgl/PCT/p_QNITROgl_irrigated.tif\n",
      "filtering succeeded\n",
      "min, max (-0.7606434226036072, 47.05888366699219)\n",
      "tile folder /home/mygeohub/sachdevg/SimpleGTool/job/3/outputs/results/Environment/Geospatial/p_QNITROgl/PCT/p_QNITROgl_irrigated\n",
      "8\n",
      "/home/mygeohub/sachdevg/SimpleGTool/job/3/outputs/results/Environment/Geospatial/p_QNITROgl/PCT/p_QNITROgl_irrigated_temp_color.tiff\n",
      "/home/mygeohub/sachdevg/SimpleGTool/job/3/outputs/results/Environment/Geospatial/p_QNITROgl/PCT/p_QNITROgl_irrigated\n",
      "Generating Base Tiles:\n",
      "0...10...20...30...40...50...60...70...80...90...100\n",
      "Generating Overview Tiles:\n",
      "0...10...20...30...40...50...60...70...80...90...100\n"
     ]
    }
   ],
   "source": [
    "from scripts.layerservice import RasterLayerUtil\n",
    "from model.variableutil import VariableModel\n",
    "\n",
    "id_str = \"3\"\n",
    "system_component=\"Environment\"\n",
    "spatial_resolution = \"Geospatial\"\n",
    "type_of_result = \"PCT\"\n",
    "result_to_view = \"Irrigated\"\n",
    "filter_min = 0\n",
    "filter_max = 100\n",
    "\n",
    "variable_model = VariableModel(id_str, system_component, spatial_resolution, type_of_result,result_to_view, filter_min, filter_max,\"N-use Grid\",1)\n",
    "\n",
    "if variable_model.is_raster():\n",
    "                layer_util = RasterLayerUtil(variable_model)\n",
    "                layer = layer_util.create_layer()\n",
    "                map_wid.visualize_raster(layer, layer_util.processed_raster_path)\n",
    "elif variable_model.is_vector():\n",
    "                layer_util = VectorLayerUtil(variable_model)\n",
    "                layer = layer_util.create_layer()"
   ]
  },
  {
   "cell_type": "code",
   "execution_count": 1,
   "metadata": {},
   "outputs": [
    {
     "ename": "SyntaxError",
     "evalue": "invalid syntax (<ipython-input-1-db74d27f6d0b>, line 12)",
     "output_type": "error",
     "traceback": [
      "\u001b[0;36m  File \u001b[0;32m\"<ipython-input-1-db74d27f6d0b>\"\u001b[0;36m, line \u001b[0;32m12\u001b[0m\n\u001b[0;31m    print \"[ STATS ] =  Minimum=%.3f, Maximum=%.3f, Mean=%.3f, StdDev=%.3f\" % (\u001b[0m\n\u001b[0m          ^\u001b[0m\n\u001b[0;31mSyntaxError\u001b[0m\u001b[0;31m:\u001b[0m invalid syntax\n"
     ]
    }
   ],
   "source": [
    "from osgeo import gdal\n",
    "# open raster and choose band to find min, max\n",
    "raster = r'/home/mygeohub/sachdevg/SimpleGTool/job/8/outputs/results/Environment/Geospatial/p_QNLEACHha_gl/PCT/p_QNLEACHha_gl_rainfed.tif'\n",
    "\n",
    "gtif = gdal.Open(raster)\n",
    "srcband = gtif.GetRasterBand(1)\n",
    "\n",
    "# Get raster statistics\n",
    "stats = srcband.GetStatistics(True, True)\n",
    "\n",
    "# Print the min, max, mean, stdev based on stats index\n",
    "print (\"[ STATS ] =  Minimum=%.3f, Maximum=%.3f, Mean=%.3f, StdDev=%.3f\" % (\n",
    "    stats[0], stats[1], stats[2], stats[3]))"
   ]
  },
  {
   "cell_type": "code",
   "execution_count": null,
   "metadata": {},
   "outputs": [],
   "source": [
    "from scripts.layerservice import RasterLayerUtil\n",
    "from model.variableutil import VariableModel\n",
    "\n",
    "id_str = \"8\"\n",
    "system_component=\"Production\"\n",
    "spatial_resolution = \"Geospatial\"\n",
    "type_of_result = \"PCT\"\n",
    "result_to_view = \"irrigated\"\n",
    "filter_min = 0\n",
    "filter_max = 100\n",
    "\n",
    "variable_model = VariableModel(id_str, system_component, spatial_resolution, type_of_result,result_to_view, filter_min, filter_max,\"\",0)\n",
    "\n",
    "print(variable_model.file_path().parent)"
   ]
  },
  {
   "cell_type": "code",
   "execution_count": null,
   "metadata": {},
   "outputs": [],
   "source": [
    "import base64\n",
    "import ipywidgets\n",
    "\n",
    "def download_button(buffer, filename: str, button_description: str):\n",
    "\n",
    "    \"\"\"Loads data from buffer into base64 payload embedded into a HTML button. Recommended for small files only.\n",
    "\n",
    "    buffer: open file object ready for reading.\n",
    "        A file like object with a read method.\n",
    "    filename:    str\n",
    "        The name when it is downloaded.\n",
    "    button_description: str\n",
    "        The text that goes into the button.\n",
    "\n",
    "    \"\"\"\n",
    "\n",
    "    payload = base64.b64encode(buffer).decode()\n",
    "\n",
    "    html_button = f\"\"\"<html>\n",
    "    <head>\n",
    "    <meta name=\"viewport\" content=\"width=device-width, initial-scale=1\">\n",
    "    </head>\n",
    "    <body>\n",
    "    <a download=\"{filename}\" href=\"data:text/csv;base64,{payload}\" >\n",
    "    <button class=\"p-Widget jupyter-widgets jupyter-button widget-button mod-warning\" style=\"width:auto\">{button_description}</button>\n",
    "    </a>\n",
    "    </body>\n",
    "    </html>\n",
    "    \"\"\"\n",
    "    return ipywidgets.HTML(html_button)\n",
    "\n",
    "with open('SIMPLE_G_CornSoy.cmf', 'r') as f:\n",
    "    file_content = f.read()\n",
    "    \n",
    "f = file_content\n",
    "#print(f)\n",
    "download_button(bytes(f,\"utf-8\"), 'SIMPLE_G_CornSoy.cmf','Downloadasdasdasdasdadadsdasda')"
   ]
  },
  {
   "cell_type": "code",
   "execution_count": null,
   "metadata": {},
   "outputs": [],
   "source": []
  },
  {
   "cell_type": "code",
   "execution_count": null,
   "metadata": {},
   "outputs": [],
   "source": [
    "import sqlite3\n",
    "import os\n",
    "import subprocess\n",
    "database = \"/data/groups/simpleggroup/job/job.db\"\n",
    "conn = sqlite3.connect(database)\n",
    "cursor = conn.cursor()\n",
    "cursor. execute(\"SELECT * from SIMPLEJobs\")\n",
    "print(cursor. fetchall())\n",
    "names = [description[0] for description in cursor.description]\n",
    "print(names)"
   ]
  },
  {
   "cell_type": "code",
   "execution_count": null,
   "metadata": {},
   "outputs": [],
   "source": [
    "import sqlite3\n",
    "import os\n",
    "import subprocess\n",
    "dbfile =os.popen(\"echo $HOME\").read().rstrip('\\n') + \"/SimpleGTool/DatabaseFile(DONOTDELETE).db\"\n",
    "conn = sqlite3.connect(dbfile)\n",
    "cursor = conn.cursor()\n",
    "#Database is always created first so the next statement should not give an error\n",
    "cursor.execute(\"SELECT * FROM SIMPLEJobs\")\n",
    "rows = cursor.fetchall()\n",
    "#Storing the contents of the db in list_of_jobs\n",
    "list_of_jobs = []\n",
    "cursor.close()\n",
    "conn.close()\n",
    "print(rows)\n",
    "submit = subprocess.run([\"submit\", \"--status\" ,\"00119287\" ], capture_output=True)\n",
    "output = submit.stdout.decode(\"utf-8\")\n",
    "print(submit.stdout)"
   ]
  },
  {
   "cell_type": "code",
   "execution_count": null,
   "metadata": {},
   "outputs": [],
   "source": [
    "import subprocess\n",
    "#jobcmd = \"submit -w 15 -i SIMPLE_G_AllCrops.cmf simpleg_us_all --detach\"\n",
    "submit = subprocess.check_output([\"submit\", \"-w\",\"15\",\"--detach\",\"-i\", \"SIMPLE_G_AllCrops.cmf\",\"simpleg_us_all\"],cwd=\"/home/mygeohub/sachdevg/SimpleGTool\")#, capture_output=True,cwd=\"/home/mygeohub/sachdevg/SimpleGTool\")\n",
    "print(submit)"
   ]
  },
  {
   "cell_type": "code",
   "execution_count": null,
   "metadata": {},
   "outputs": [],
   "source": [
    "print(submit.stdout.decode(\"utf-8\"))\n",
    "get_id = submit.stdout.decode(\"utf-8\")\n",
    "start = get_id.find(\"Run\") + 4\n",
    "end = get_id.find(\"registered\") -1\n",
    "print(get_id[start:end])"
   ]
  },
  {
   "cell_type": "code",
   "execution_count": 6,
   "metadata": {},
   "outputs": [],
   "source": [
    "from scripts.SIMPLEUtil import SIMPLEUtil\n",
    "import json\n",
    "import sqlite3\n",
    "import os, datetime\n",
    "import sys\n",
    "from pathlib import Path\n",
    "\n",
    "dbfile =os.popen(\"echo $HOME\").read().rstrip('\\n') + \"/SimpleGTool\" + '/DatabaseFile(DONOTDELETE).db'\n",
    "\n",
    "con = sqlite3.connect(dbfile)\n",
    "conn = con.cursor()\n",
    "sql = 'delete from SIMPLEJobs where jobid = ?'\n",
    "cur = conn.execute(sql,(\"7\"))\n",
    "con.commit()\n",
    "con.close()"
   ]
  },
  {
   "cell_type": "code",
   "execution_count": null,
   "metadata": {},
   "outputs": [],
   "source": [
    "#Shp files\n",
    "import pandas as pd\n",
    "import geopandas as gpd\n",
    "from ipyleaflet import GeoData,Choropleth\n",
    "import branca.colormap as cm\n",
    "import fiona \n",
    "import numpy as np\n",
    "import json\n",
    "import branca.colormap as cm\n",
    "\n",
    "\n",
    "shp_file = gpd.read_file('/home/mygeohub/sachdevg/SimpleGTool/job/1/outputs/results/Production/Global/p_PCROP/PCT/p_PCROP.shp')\n",
    "map_df=shp_file.to_crs(4326)\n",
    "\n",
    "csv_data = pd.read_csv(\"/home/mygeohub/sachdevg/SimpleGTool/job/1/outputs/results/Production/Global/p_PCROP/PCT/p_PCROP.csv\")\n",
    "#print(type(map_df))\n",
    "map_df.to_file(\"p_QLANDrl_irrigated.geojson\", driver='GeoJSON')\n",
    "with open('p_QLANDrl_irrigated.geojson', 'r') as f:\n",
    "    geo_json_data = json.load(f)\n",
    "    for d in geo_json_data[\"features\"]:\n",
    "       d[\"REG\"] = d[\"properties\"][\"REG\"]\n",
    "\n",
    "#print(geo_json_data)\n",
    "print(csv_data)\n",
    "mapping  = dict(zip(map_df[\"REG\"].str.strip(), map_df[\"DATA\"]))\n",
    "linear = cm.LinearColormap([(255,0,0),(255,51,0),(255,119,0),(255,187,0),(255,255,0),(204,255,0),(153,255,0),(102,255,0),(38,191,0),(0,102,0)],\n",
    "                           vmin=min(map_df['DATA']), vmax=max(map_df['DATA']))\n",
    "display(linear)\n",
    "print(map_df)\n",
    "#print(list(mapping.items())[:10])\n",
    "#print(geo_json_data['features'][0])\n",
    "layer = Choropleth(\n",
    "    geo_data=geo_json_data,\n",
    "    choro_data=mapping,\n",
    "    colormap=linear,\n",
    "    style={'fillOpacity': 1.0, \"color\":\"black\"},\n",
    "    key_on=\"REG\"\n",
    ")\n",
    "print(layer.colormap)\n",
    "map_wid.add_layer(layer)\n",
    "map_wid._legend_bar.refresh(min(map_df['DATA']), max(map_df['DATA'])/0.9)\n",
    "print(mapping)"
   ]
  },
  {
   "cell_type": "code",
   "execution_count": null,
   "metadata": {},
   "outputs": [],
   "source": [
    "#Shp files\n",
    "import pandas as pd\n",
    "import geopandas as gpd\n",
    "from ipyleaflet import GeoData,Choropleth\n",
    "import branca.colormap as cm\n",
    "import fiona \n",
    "import numpy as np\n",
    "import json\n",
    "import branca.colormap as cm\n",
    "\n",
    "\n",
    "shp_file = gpd.read_file('/home/mygeohub/sachdevg/SimpleGTool/job/1/outputs/results/Land/Regional/p_QLANDrl/PCT/p_QLANDrl_irrigated.shp')\n",
    "map_df=shp_file.to_crs(4326)\n",
    "csv_data = pd.read_csv(\"/home/mygeohub/sachdevg/SimpleGTool/job/1/outputs/results/Land/Regional/p_QLANDrl/PCT/p_QLANDrl_irrigated.csv\")\n",
    "#print(type(map_df))\n",
    "map_df.to_file(\"p_QLANDrl_irrigated.geojson\", driver='GeoJSON')\n",
    "with open('p_QLANDrl_irrigated.geojson', 'r') as f:\n",
    "    geo_json_data = json.load(f)\n",
    "    for d in geo_json_data[\"features\"]:\n",
    "       d[\"REG\"] = d[\"properties\"][\"REG\"]\n",
    "\n",
    "#print(geo_json_data)\n",
    "mapping  = dict(zip(csv_data[\"REG\"].str.strip(), csv_data[\"DATA\"]))\n",
    "linear = cm.LinearColormap([(255,0,0),(255,51,0),(255,119,0),(255,187,0),(255,255,0),(204,255,0),(153,255,0),(102,255,0),(38,191,0),(0,102,0)],\n",
    "                           vmin=min(map_df['DATA']), vmax=max(map_df['DATA']))\n",
    "display(linear)\n",
    "print(map_df)\n",
    "#print(list(mapping.items())[:10])\n",
    "#print(geo_json_data['features'][0])\n",
    "layer = Choropleth(\n",
    "    geo_data=geo_json_data,\n",
    "    choro_data=mapping,\n",
    "    colormap=linear,\n",
    "    style={'fillOpacity': 1.0, \"color\":\"black\"},\n",
    "    key_on=\"REG\"\n",
    ")\n",
    "print(layer.colormap)\n",
    "map_wid.add_layer(layer)\n",
    "map_wid._legend_bar.refresh(min(map_df['DATA']), max(map_df['DATA'])/0.9)\n",
    "print(mapping)"
   ]
  },
  {
   "cell_type": "code",
   "execution_count": null,
   "metadata": {},
   "outputs": [],
   "source": [
    "map_wid.remove_layer(map_wid.layers[-1])"
   ]
  },
  {
   "cell_type": "code",
   "execution_count": null,
   "metadata": {},
   "outputs": [],
   "source": [
    "import branca.colormap as cm\n",
    "linear = cm.LinearColormap([(255,0,0),(255,51,0),(255,119,0),(255,187,0),(255,255,0),(204,255,0),(153,255,0),(102,255,0),(38,191,0),(0,102,0)],\n",
    "                           vmin=0, vmax=10)\n",
    "\n",
    "linear"
   ]
  },
  {
   "cell_type": "code",
   "execution_count": null,
   "metadata": {},
   "outputs": [],
   "source": [
    "import ipywidgets as ui\n",
    "\n",
    "def _rgb_to_hex( r: int, g: int, b: int):\n",
    "        assert 0 <= r <= 255\n",
    "        assert 0 <= g <= 255\n",
    "        assert 0 <= b <= 255\n",
    "        return \"#{:02x}{:02x}{:02x}\".format(r,g,b)\n",
    "\n",
    "color =  _rgb_to_hex(255, 119, 0)\n",
    "print(color)\n",
    "legend_layout = ui.Layout(     \n",
    "                               width= \"fit_content\",\n",
    "                               height= \"fit_content\",\n",
    "                               flex_flow= \"row\",\n",
    "                               align_items= \"center\",\n",
    "                               justify_content= \"center\",\n",
    "                               button_color= color,\n",
    "                               padding= \"0px 0px 0px 0px\",\n",
    "                               opacity= \"0.75\"\n",
    "                           )\n",
    "text = ui.Button(description=\"Test\", layout=legend_layout, style = ui.ButtonStyle(button_color=color))\n",
    "\n",
    "bucket = ui.VBox(children=[text], layout = legend_layout)\n",
    "bucket"
   ]
  },
  {
   "cell_type": "code",
   "execution_count": null,
   "metadata": {},
   "outputs": [],
   "source": [
    "import os,sys,re\n",
    "\n",
    "SRC_DIR = os.path.abspath(os.path.join\n",
    "                            (os.path.dirname(os.path.abspath(__file__)), os.pardir))"
   ]
  },
  {
   "cell_type": "code",
   "execution_count": null,
   "metadata": {},
   "outputs": [],
   "source": [
    "import os\n",
    "\n",
    "print(os.popen(\"whoami\").read())"
   ]
  },
  {
   "cell_type": "code",
   "execution_count": null,
   "metadata": {},
   "outputs": [],
   "source": [
    "#import subprocess \n",
    "#subprocess.Popen(r'c:\\mytool\\tool.exe', cwd=r'd:\\test\\local')\n",
    "import ipywidgets as ui\n",
    "myupload = ui.FileUpload(\n",
    "    accept= '.txt', \n",
    "    multiple=False  \n",
    ")\n",
    "myupload"
   ]
  },
  {
   "cell_type": "code",
   "execution_count": null,
   "metadata": {},
   "outputs": [],
   "source": [
    "list(myupload.value.keys())[0]"
   ]
  },
  {
   "cell_type": "code",
   "execution_count": null,
   "metadata": {},
   "outputs": [],
   "source": [
    "uploaded_filename = next(iter(myupload.value))\n",
    "content = myupload.value[uploaded_filename]['content']\n",
    "with open('/home/mygeohub/sachdevg/SimpleGTool/SIMPLE_G_AllCrops.cmf', 'w') as f: f.write(content.decode(\"utf-8\"))"
   ]
  },
  {
   "cell_type": "code",
   "execution_count": null,
   "metadata": {},
   "outputs": [],
   "source": []
  }
 ],
 "metadata": {
  "kernelspec": {
   "display_name": "Python [conda env:qgis]",
   "language": "python",
   "name": "conda-env-qgis-py"
  },
  "language_info": {
   "codemirror_mode": {
    "name": "ipython",
    "version": 3
   },
   "file_extension": ".py",
   "mimetype": "text/x-python",
   "name": "python",
   "nbconvert_exporter": "python",
   "pygments_lexer": "ipython3",
   "version": "3.8.3"
  }
 },
 "nbformat": 4,
 "nbformat_minor": 4
}

{
 "cells": [
  {
   "cell_type": "code",
   "execution_count": 2,
   "metadata": {},
   "outputs": [
    {
     "data": {
      "application/vnd.jupyter.widget-view+json": {
       "model_id": "8924036bda8648278d918f2018e20702",
       "version_major": 2,
       "version_minor": 0
      },
      "text/plain": [
       "VBox(children=(CustomMap(center=[39.5, -98.35], controls=(AttributionControl(options=['position', 'prefix'], p…"
      ]
     },
     "metadata": {},
     "output_type": "display_data"
    }
   ],
   "source": [
    "from scripts.mapwidget import CustomMap\n",
    "import ipywidgets as ui\n",
    "\n",
    "map_wid = CustomMap(\"720px\",\"614px\")\n",
    "map_wid_1=CustomMap(\"720px\",\"614px\")\n",
    "mapbox=ui.VBox(children=[map_wid,map_wid_1])\n",
    "\n",
    "map_wid.link(map_wid_1)\n",
    "mapbox\n",
    "\n"
   ]
  },
  {
   "cell_type": "code",
   "execution_count": 4,
   "metadata": {},
   "outputs": [
    {
     "name": "stdout",
     "output_type": "stream",
     "text": [
      "/home/mygeohub/sachdevg/SimpleGTool/job/1/outputs/results/Production/Geospatial/p_QCROPgl/PCT/p_QCROPgl_irrigated.tif\n",
      "filtering succeeded\n",
      "min, max (-2.7838754653930664, 23.651071548461914)\n",
      "tile folder /home/mygeohub/sachdevg/SimpleGTool/job/1/outputs/results/Production/Geospatial/p_QCROPgl/PCT/p_QCROPgl_irrigated\n",
      "0...10...20...30...40...50...60...70...80...90...100\n"
     ]
    }
   ],
   "source": [
    "from scripts.layerservice import RasterLayerUtil\n",
    "from model.variableutil import VariableModel\n",
    "\n",
    "id_str = \"1\"\n",
    "system_component=\"Production\"\n",
    "spatial_resolution = \"Geospatial\"\n",
    "type_of_result = \"PCT\"\n",
    "result_to_view = \"irrigated\"\n",
    "filter_min = 0\n",
    "filter_max = 100\n",
    "\n",
    "variable_model = VariableModel(id_str, system_component, spatial_resolution, type_of_result,result_to_view, filter_min, filter_max)\n",
    "\n",
    "\n",
    "if variable_model.is_raster():\n",
    "                layer_util = RasterLayerUtil(variable_model)\n",
    "                layer = layer_util.create_layer()\n",
    "                map_wid.visualize_raster(layer, layer_util.processed_raster_path)\n",
    "elif variable_model.is_vector():\n",
    "                layer_util = VectorLayerUtil(variable_model)\n",
    "                layer = layer_util.create_layer()"
   ]
  },
  {
   "cell_type": "code",
   "execution_count": 1,
   "metadata": {},
   "outputs": [
    {
     "name": "stdout",
     "output_type": "stream",
     "text": [
      "#ff7700\n"
     ]
    },
    {
     "data": {
      "application/vnd.jupyter.widget-view+json": {
       "model_id": "99e0f131f0874bbb863a92d8cdd82308",
       "version_major": 2,
       "version_minor": 0
      },
      "text/plain": [
       "VBox(children=(Button(description='Test', layout=Layout(align_items='center', flex_flow='row', height='fit_con…"
      ]
     },
     "metadata": {},
     "output_type": "display_data"
    }
   ],
   "source": [
    "import ipywidgets as ui\n",
    "\n",
    "def _rgb_to_hex( r: int, g: int, b: int):\n",
    "        assert 0 <= r <= 255\n",
    "        assert 0 <= g <= 255\n",
    "        assert 0 <= b <= 255\n",
    "        return \"#{:02x}{:02x}{:02x}\".format(r,g,b)\n",
    "\n",
    "color =  _rgb_to_hex(255, 119, 0)\n",
    "print(color)\n",
    "legend_layout = ui.Layout(     \n",
    "                               width= \"fit_content\",\n",
    "                               height= \"fit_content\",\n",
    "                               flex_flow= \"row\",\n",
    "                               align_items= \"center\",\n",
    "                               justify_content= \"center\",\n",
    "                               button_color= color,\n",
    "                               padding= \"0px 0px 0px 0px\",\n",
    "                               opacity= \"0.75\"\n",
    "                           )\n",
    "text = ui.Button(description=\"Test\", layout=legend_layout, style = ui.ButtonStyle(button_color=color))\n",
    "\n",
    "bucket = ui.VBox(children=[text], layout = legend_layout)\n",
    "bucket"
   ]
  },
  {
   "cell_type": "code",
   "execution_count": 1,
   "metadata": {},
   "outputs": [
    {
     "ename": "FileNotFoundError",
     "evalue": "[Errno 2] No such file or directory: '/home/mygeohub/sachdevg/SimpleGTool/job/61/outputs/results/Production/Geospatial'",
     "output_type": "error",
     "traceback": [
      "\u001b[0;31m---------------------------------------------------------------------------\u001b[0m",
      "\u001b[0;31mFileNotFoundError\u001b[0m                         Traceback (most recent call last)",
      "\u001b[0;32m<ipython-input-1-1781e8e39f21>\u001b[0m in \u001b[0;36m<module>\u001b[0;34m\u001b[0m\n\u001b[1;32m     10\u001b[0m \u001b[0mfilter_max\u001b[0m \u001b[0;34m=\u001b[0m \u001b[0;36m100\u001b[0m\u001b[0;34m\u001b[0m\u001b[0;34m\u001b[0m\u001b[0m\n\u001b[1;32m     11\u001b[0m \u001b[0;34m\u001b[0m\u001b[0m\n\u001b[0;32m---> 12\u001b[0;31m \u001b[0mvariable_model\u001b[0m \u001b[0;34m=\u001b[0m \u001b[0mVariableModel\u001b[0m\u001b[0;34m(\u001b[0m\u001b[0mid_str\u001b[0m\u001b[0;34m,\u001b[0m \u001b[0msystem_component\u001b[0m\u001b[0;34m,\u001b[0m \u001b[0mspatial_resolution\u001b[0m\u001b[0;34m,\u001b[0m \u001b[0mtype_of_result\u001b[0m\u001b[0;34m,\u001b[0m\u001b[0mresult_to_view\u001b[0m\u001b[0;34m,\u001b[0m \u001b[0mfilter_min\u001b[0m\u001b[0;34m,\u001b[0m \u001b[0mfilter_max\u001b[0m\u001b[0;34m)\u001b[0m\u001b[0;34m\u001b[0m\u001b[0;34m\u001b[0m\u001b[0m\n\u001b[0m\u001b[1;32m     13\u001b[0m \u001b[0;34m\u001b[0m\u001b[0m\n\u001b[1;32m     14\u001b[0m \u001b[0mprint\u001b[0m\u001b[0;34m(\u001b[0m\u001b[0mvariable_model\u001b[0m\u001b[0;34m.\u001b[0m\u001b[0mfile_path\u001b[0m\u001b[0;34m(\u001b[0m\u001b[0;34m)\u001b[0m\u001b[0;34m.\u001b[0m\u001b[0mparent\u001b[0m\u001b[0;34m)\u001b[0m\u001b[0;34m\u001b[0m\u001b[0;34m\u001b[0m\u001b[0m\n",
      "\u001b[0;32m~/simpleg/model/variableutil.py\u001b[0m in \u001b[0;36m__init__\u001b[0;34m(self, id_str, system_component, spatial_resolution, type_of_result, result_to_view, filter_min, filter_max)\u001b[0m\n\u001b[1;32m     22\u001b[0m                                                                                    to_display_name=True)\n\u001b[1;32m     23\u001b[0m         \u001b[0mself\u001b[0m\u001b[0;34m.\u001b[0m\u001b[0m_type_of_result\u001b[0m\u001b[0;34m:\u001b[0m \u001b[0mstr\u001b[0m \u001b[0;34m=\u001b[0m \u001b[0mVariableService\u001b[0m\u001b[0;34m.\u001b[0m\u001b[0mconvert_type_of_result\u001b[0m\u001b[0;34m(\u001b[0m\u001b[0mtype_of_result\u001b[0m\u001b[0;34m,\u001b[0m \u001b[0mto_display_name\u001b[0m\u001b[0;34m=\u001b[0m\u001b[0;32mTrue\u001b[0m\u001b[0;34m)\u001b[0m\u001b[0;34m\u001b[0m\u001b[0;34m\u001b[0m\u001b[0m\n\u001b[0;32m---> 24\u001b[0;31m         self._result_to_view: str = VariableService.convert_result_to_view(result_to_view, self.id_str,\n\u001b[0m\u001b[1;32m     25\u001b[0m                                                                            \u001b[0mself\u001b[0m\u001b[0;34m.\u001b[0m\u001b[0msystem_component\u001b[0m\u001b[0;34m(\u001b[0m\u001b[0;34m)\u001b[0m\u001b[0;34m,\u001b[0m\u001b[0;34m\u001b[0m\u001b[0;34m\u001b[0m\u001b[0m\n\u001b[1;32m     26\u001b[0m                                                                            \u001b[0mself\u001b[0m\u001b[0;34m.\u001b[0m\u001b[0mspatial_resolution\u001b[0m\u001b[0;34m(\u001b[0m\u001b[0;34m)\u001b[0m\u001b[0;34m,\u001b[0m\u001b[0;34m\u001b[0m\u001b[0;34m\u001b[0m\u001b[0m\n",
      "\u001b[0;32m~/simpleg/model/variableutil.py\u001b[0m in \u001b[0;36mconvert_result_to_view\u001b[0;34m(cls, result_to_view, id_str, system_component, spatial_resolution, type_of_result, to_display_name, to_directory_name)\u001b[0m\n\u001b[1;32m    211\u001b[0m         \u001b[0;32massert\u001b[0m \u001b[0mto_directory_name\u001b[0m \u001b[0;32mor\u001b[0m \u001b[0mto_display_name\u001b[0m\u001b[0;34m\u001b[0m\u001b[0;34m\u001b[0m\u001b[0m\n\u001b[1;32m    212\u001b[0m         \u001b[0mspatial_resolution_path\u001b[0m \u001b[0;34m=\u001b[0m \u001b[0mcls\u001b[0m\u001b[0;34m.\u001b[0m\u001b[0mspatial_resolution_path\u001b[0m\u001b[0;34m(\u001b[0m\u001b[0mid_str\u001b[0m\u001b[0;34m,\u001b[0m \u001b[0msystem_component\u001b[0m\u001b[0;34m,\u001b[0m \u001b[0mspatial_resolution\u001b[0m\u001b[0;34m)\u001b[0m\u001b[0;34m\u001b[0m\u001b[0;34m\u001b[0m\u001b[0m\n\u001b[0;32m--> 213\u001b[0;31m         \u001b[0msimple_variable\u001b[0m \u001b[0;34m=\u001b[0m \u001b[0mlistdir\u001b[0m\u001b[0;34m(\u001b[0m\u001b[0mstr\u001b[0m\u001b[0;34m(\u001b[0m\u001b[0mspatial_resolution_path\u001b[0m\u001b[0;34m)\u001b[0m\u001b[0;34m)\u001b[0m\u001b[0;34m[\u001b[0m\u001b[0;36m0\u001b[0m\u001b[0;34m]\u001b[0m  \u001b[0;31m# It is assumed there is only one simple variable\u001b[0m\u001b[0;34m\u001b[0m\u001b[0;34m\u001b[0m\u001b[0m\n\u001b[0m\u001b[1;32m    214\u001b[0m         \u001b[0;31m# directory\u001b[0m\u001b[0;34m\u001b[0m\u001b[0;34m\u001b[0m\u001b[0;34m\u001b[0m\u001b[0m\n\u001b[1;32m    215\u001b[0m         \u001b[0mfile_format\u001b[0m \u001b[0;34m=\u001b[0m \u001b[0;34m\".tif\"\u001b[0m \u001b[0;32mif\u001b[0m \u001b[0mspatial_resolution\u001b[0m\u001b[0;34m.\u001b[0m\u001b[0mlower\u001b[0m\u001b[0;34m(\u001b[0m\u001b[0;34m)\u001b[0m \u001b[0;34m==\u001b[0m \u001b[0;34m\"geospatial\"\u001b[0m \u001b[0;32melse\u001b[0m \u001b[0;34m\".shp\"\u001b[0m\u001b[0;34m\u001b[0m\u001b[0;34m\u001b[0m\u001b[0m\n",
      "\u001b[0;31mFileNotFoundError\u001b[0m: [Errno 2] No such file or directory: '/home/mygeohub/sachdevg/SimpleGTool/job/61/outputs/results/Production/Geospatial'"
     ]
    }
   ],
   "source": [
    "from scripts.layerservice import RasterLayerUtil\n",
    "from model.variableutil import VariableModel\n",
    "\n",
    "id_str = \"61\"\n",
    "system_component=\"Production\"\n",
    "spatial_resolution = \"Geospatial\"\n",
    "type_of_result = \"PCT\"\n",
    "result_to_view = \"irrigated\"\n",
    "filter_min = 0\n",
    "filter_max = 100\n",
    "\n",
    "variable_model = VariableModel(id_str, system_component, spatial_resolution, type_of_result,result_to_view, filter_min, filter_max)\n",
    "\n",
    "print(variable_model.file_path().parent)"
   ]
  },
  {
   "cell_type": "code",
   "execution_count": 6,
   "metadata": {},
   "outputs": [
    {
     "ename": "NameError",
     "evalue": "name '__file__' is not defined",
     "output_type": "error",
     "traceback": [
      "\u001b[0;31m---------------------------------------------------------------------------\u001b[0m",
      "\u001b[0;31mNameError\u001b[0m                                 Traceback (most recent call last)",
      "\u001b[0;32m<ipython-input-6-cb6621a378ca>\u001b[0m in \u001b[0;36m<module>\u001b[0;34m\u001b[0m\n\u001b[1;32m      2\u001b[0m \u001b[0;34m\u001b[0m\u001b[0m\n\u001b[1;32m      3\u001b[0m SRC_DIR = os.path.abspath(os.path.join\n\u001b[0;32m----> 4\u001b[0;31m                             (os.path.dirname(os.path.abspath(__file__)), os.pardir))\n\u001b[0m",
      "\u001b[0;31mNameError\u001b[0m: name '__file__' is not defined"
     ]
    }
   ],
   "source": [
    "import os,sys,re\n",
    "\n",
    "SRC_DIR = os.path.abspath(os.path.join\n",
    "                            (os.path.dirname(os.path.abspath(__file__)), os.pardir))"
   ]
  },
  {
   "cell_type": "code",
   "execution_count": 5,
   "metadata": {},
   "outputs": [
    {
     "name": "stdout",
     "output_type": "stream",
     "text": [
      "sachdevg\n",
      "\n"
     ]
    }
   ],
   "source": [
    "import os\n",
    "\n",
    "print(os.popen(\"whoami\").read())"
   ]
  },
  {
   "cell_type": "code",
   "execution_count": null,
   "metadata": {},
   "outputs": [],
   "source": []
  }
 ],
 "metadata": {
  "kernelspec": {
   "display_name": "Python [conda env:qgis]",
   "language": "python",
   "name": "conda-env-qgis-py"
  },
  "language_info": {
   "codemirror_mode": {
    "name": "ipython",
    "version": 3
   },
   "file_extension": ".py",
   "mimetype": "text/x-python",
   "name": "python",
   "nbconvert_exporter": "python",
   "pygments_lexer": "ipython3",
   "version": "3.8.3"
  }
 },
 "nbformat": 4,
 "nbformat_minor": 4
}

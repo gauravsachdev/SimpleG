{
 "cells": [
  {
   "cell_type": "code",
   "execution_count": 1,
   "metadata": {},
   "outputs": [
    {
     "data": {
      "application/vnd.jupyter.widget-view+json": {
       "model_id": "ee6bae7c9145418498fde2cd8ab6f7ca",
       "version_major": 2,
       "version_minor": 0
      },
      "text/plain": [
       "CustomMap(center=[39.5, -98.35], controls=(AttributionControl(options=['position', 'prefix'], position='bottom…"
      ]
     },
     "metadata": {},
     "output_type": "display_data"
    }
   ],
   "source": [
    "from scripts.mapwidget import CustomMap\n",
    "\n",
    "map = CustomMap(\"720px\",\"614px\")\n",
    "\n",
    "map"
   ]
  },
  {
   "cell_type": "code",
   "execution_count": 1,
   "metadata": {},
   "outputs": [
    {
     "data": {
      "application/vnd.jupyter.widget-view+json": {
       "model_id": "97ba8af0feb049b2ba009b53c99cd839",
       "version_major": 2,
       "version_minor": 0
      },
      "text/plain": [
       "Map(center=[52.204793, 360.121558], controls=(ZoomControl(options=['position', 'zoom_in_text', 'zoom_in_title'…"
      ]
     },
     "metadata": {},
     "output_type": "display_data"
    }
   ],
   "source": [
    "from ipyleaflet import Map, basemaps, basemap_to_tiles\n",
    "\n",
    "m = Map(\n",
    "    layers=(basemap_to_tiles(basemaps.NASAGIBS.ModisTerraTrueColorCR, \"2017-04-08\"), ),\n",
    "    center=(52.204793, 360.121558),\n",
    "    zoom=4\n",
    ")\n",
    "\n",
    "m"
   ]
  },
  {
   "cell_type": "code",
   "execution_count": 2,
   "metadata": {},
   "outputs": [
    {
     "data": {
      "application/vnd.jupyter.widget-view+json": {
       "model_id": "140de5ff85bf461ba0c741dce05db995",
       "version_major": 2,
       "version_minor": 0
      },
      "text/plain": [
       "Map(center=[0.0, 0.0], controls=(ZoomControl(options=['position', 'zoom_in_text', 'zoom_in_title', 'zoom_out_t…"
      ]
     },
     "metadata": {},
     "output_type": "display_data"
    }
   ],
   "source": [
    "# imports\n",
    "import ipyleaflet\n",
    "from ipyleaflet import Map\n",
    "\n",
    "# create map\n",
    "# basic_map = ipyleaflet.Map(zoom=1)\n",
    "basic_map = Map(zoom=4)\n",
    "\n",
    "# display map\n",
    "# basic_map\n",
    "display(basic_map)"
   ]
  },
  {
   "cell_type": "code",
   "execution_count": 3,
   "metadata": {},
   "outputs": [
    {
     "data": {
      "text/plain": [
       "ipyleaflet.leaflet.Map"
      ]
     },
     "execution_count": 3,
     "metadata": {},
     "output_type": "execute_result"
    }
   ],
   "source": [
    "type(m)"
   ]
  },
  {
   "cell_type": "code",
   "execution_count": null,
   "metadata": {},
   "outputs": [],
   "source": [
    "from scripts.layerservice import RasterLayerUtil\n",
    "\n",
    "obj = RasterLayerUtil()"
   ]
  }
 ],
 "metadata": {
  "kernelspec": {
   "display_name": "Python [conda env:qgis]",
   "language": "python",
   "name": "conda-env-qgis-py"
  },
  "language_info": {
   "codemirror_mode": {
    "name": "ipython",
    "version": 3
   },
   "file_extension": ".py",
   "mimetype": "text/x-python",
   "name": "python",
   "nbconvert_exporter": "python",
   "pygments_lexer": "ipython3",
   "version": "3.8.3"
  }
 },
 "nbformat": 4,
 "nbformat_minor": 4
}

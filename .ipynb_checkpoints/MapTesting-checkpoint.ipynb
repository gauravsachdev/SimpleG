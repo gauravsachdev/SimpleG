{
 "cells": [
  {
   "cell_type": "code",
   "execution_count": 1,
   "metadata": {},
   "outputs": [
    {
     "data": {
      "application/vnd.jupyter.widget-view+json": {
       "model_id": "753900bb39534ff88601990891e4a88a",
       "version_major": 2,
       "version_minor": 0
      },
      "text/plain": [
       "VBox(children=(CustomMap(center=[39.5, -98.35], controls=(AttributionControl(options=['position', 'prefix'], p…"
      ]
     },
     "metadata": {},
     "output_type": "display_data"
    }
   ],
   "source": [
    "from scripts.mapwidget import CustomMap\n",
    "import ipywidgets as ui\n",
    "\n",
    "map_wid = CustomMap(\"720px\",\"614px\")\n",
    "\n",
    "freq_slider = ui.FloatSlider(value=0,min=0,max=100,step=0.1,description='Frequency:', readout_format='.1f',)\n",
    "\n",
    "mapbox=ui.VBox(children=[map_wid,freq_slider])\n",
    "\n",
    "mapbox"
   ]
  },
  {
   "cell_type": "code",
   "execution_count": 3,
   "metadata": {},
   "outputs": [
    {
     "name": "stdout",
     "output_type": "stream",
     "text": [
      "filtering succeeded\n",
      "min, max (-2.7838754653930664, 23.651071548461914)\n",
      "tile folder /home/mygeohub/sachdevg/SimpleUSRun/shared/1/outputs/results/Production/Geospatial/p_QCROPgl/PCT/p_QCROPgl_irrigated\n",
      "0...10...20...30...40...50...60...70...80...90...100\n"
     ]
    }
   ],
   "source": [
    "from scripts.layerservice import RasterLayerUtil\n",
    "from model.variableutil import VariableModel\n",
    "\n",
    "id_str = \"61\"\n",
    "system_component=\"Production\"\n",
    "spatial_resolution = \"Geospatial\"\n",
    "type_of_result = \"PCT\"\n",
    "result_to_view = \"irrigated\"\n",
    "filter_min = 0\n",
    "filter_max = 100\n",
    "\n",
    "variable_model = VariableModel(id_str, system_component, spatial_resolution, type_of_result,result_to_view, filter_min, filter_max)\n",
    "\n",
    "\n",
    "if variable_model.is_raster():\n",
    "                layer_util = RasterLayerUtil(variable_model)\n",
    "                layer = layer_util.create_layer()\n",
    "                map_wid.visualize_raster(layer, layer_util.processed_raster_path)\n",
    "elif variable_model.is_vector():\n",
    "                layer_util = VectorLayerUtil(variable_model)\n",
    "                layer = layer_util.create_layer()"
   ]
  },
  {
   "cell_type": "code",
   "execution_count": 1,
   "metadata": {},
   "outputs": [
    {
     "name": "stdout",
     "output_type": "stream",
     "text": [
      "#ff7700\n"
     ]
    },
    {
     "data": {
      "application/vnd.jupyter.widget-view+json": {
       "model_id": "99e0f131f0874bbb863a92d8cdd82308",
       "version_major": 2,
       "version_minor": 0
      },
      "text/plain": [
       "VBox(children=(Button(description='Test', layout=Layout(align_items='center', flex_flow='row', height='fit_con…"
      ]
     },
     "metadata": {},
     "output_type": "display_data"
    }
   ],
   "source": [
    "import ipywidgets as ui\n",
    "\n",
    "def _rgb_to_hex( r: int, g: int, b: int):\n",
    "        assert 0 <= r <= 255\n",
    "        assert 0 <= g <= 255\n",
    "        assert 0 <= b <= 255\n",
    "        return \"#{:02x}{:02x}{:02x}\".format(r,g,b)\n",
    "\n",
    "color =  _rgb_to_hex(255, 119, 0)\n",
    "print(color)\n",
    "legend_layout = ui.Layout(     \n",
    "                               width= \"fit_content\",\n",
    "                               height= \"fit_content\",\n",
    "                               flex_flow= \"row\",\n",
    "                               align_items= \"center\",\n",
    "                               justify_content= \"center\",\n",
    "                               button_color= color,\n",
    "                               padding= \"0px 0px 0px 0px\",\n",
    "                               opacity= \"0.75\"\n",
    "                           )\n",
    "text = ui.Button(description=\"Test\", layout=legend_layout, style = ui.ButtonStyle(button_color=color))\n",
    "\n",
    "bucket = ui.VBox(children=[text], layout = legend_layout)\n",
    "bucket"
   ]
  },
  {
   "cell_type": "code",
   "execution_count": 1,
   "metadata": {},
   "outputs": [
    {
     "name": "stdout",
     "output_type": "stream",
     "text": [
      "<model.variableutil.VariableModel object at 0x7f9b40201cd0>\n"
     ]
    }
   ],
   "source": [
    "from scripts.layerservice import RasterLayerUtil\n",
    "from model.variableutil import VariableModel\n",
    "\n",
    "id_str = \"61\"\n",
    "system_component=\"Production\"\n",
    "spatial_resolution = \"Geospatial\"\n",
    "type_of_result = \"PCT\"\n",
    "result_to_view = \"irrigated\"\n",
    "filter_min = 0\n",
    "filter_max = 100\n",
    "\n",
    "variable_model = VariableModel(id_str, system_component, spatial_resolution, type_of_result,result_to_view, filter_min, filter_max)\n",
    "\n",
    "for i in variable_model:\n",
    "    print(i)"
   ]
  },
  {
   "cell_type": "code",
   "execution_count": null,
   "metadata": {},
   "outputs": [],
   "source": []
  }
 ],
 "metadata": {
  "kernelspec": {
   "display_name": "Python [conda env:qgis]",
   "language": "python",
   "name": "conda-env-qgis-py"
  },
  "language_info": {
   "codemirror_mode": {
    "name": "ipython",
    "version": 3
   },
   "file_extension": ".py",
   "mimetype": "text/x-python",
   "name": "python",
   "nbconvert_exporter": "python",
   "pygments_lexer": "ipython3",
   "version": "3.8.3"
  }
 },
 "nbformat": 4,
 "nbformat_minor": 4
}

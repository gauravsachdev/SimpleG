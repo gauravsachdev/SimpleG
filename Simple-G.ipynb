{
 "cells": [
  {
   "cell_type": "code",
   "execution_count": 1,
   "metadata": {},
   "outputs": [
    {
     "data": {
      "text/html": [
       "<!-- style.html: General app CSS -->\n",
       "<style>\n",
       ".jupyter-widgets.widget-tab > .p-TabBar .p-TabBar-tab {\n",
       "    flex              : 0 1 300px\n",
       "}\n",
       ".p-Collapse-header {\n",
       "    color             : white !important;\n",
       "    background-color  : steelblue !important;\n",
       "    padding-top       : 3px;\n",
       "    padding-bottom    : 3px;\n",
       "}\n",
       ".p-TabBar-tabLabel {\n",
       "    font-weight       : bold !important;\n",
       "    color             : steelblue !important;\n",
       "    margin-top        : 1em !important;\n",
       "    margin-bottom     : 1em !important;\n",
       "}\n",
       ".widget-label {\n",
       "    text-align        : right;\n",
       "}\n",
       "p {\n",
       "    line-height       : 1.2em;\n",
       "    margin-bottom     : 1em;\n",
       "}\n",
       "/* Avoid output scrollbars (sub-windowing) */\n",
       ".output_wrapper, .output {\n",
       "    height            : auto !important;\n",
       "    max-height        : 99999px;\n",
       "}\n",
       ".output_scroll {\n",
       "    box-shadow        : none !important;\n",
       "    webkit-box-shadow : none !important;\n",
       "    /* height            : 44em;   Expand output cells */\n",
       "}\n",
       "#site {\n",
       "    height            : 100% !important;\n",
       "}\n",
       ".prompt {\n",
       "    min-width         : 1px !important; /* Collapse left margin */\n",
       "}\n",
       "pre {\n",
       "    user-select       : all;\n",
       "}\n",
       "img {\n",
       "  display: block;\n",
       "  margin-left: auto;\n",
       "  margin-right: auto;\n",
       " }\n",
       "</style>"
      ],
      "text/plain": [
       "<IPython.core.display.HTML object>"
      ]
     },
     "metadata": {},
     "output_type": "display_data"
    },
    {
     "data": {
      "text/html": [
       "<!-- header.html: Notebook-specific CSS and title -->\n",
       "<style>\n",
       ".this_nb_title {\n",
       "    font-weight      : bold;\n",
       "    color            : steelblue;\n",
       "    background-color : transparent;\n",
       "    font-size        : 22px;\n",
       "    border           : 0px;\n",
       "    padding          : 0px;\n",
       "}\n",
       "/* Cause plotly to display \"modebar\" */\n",
       ".container {\n",
       "    min-width        : 1200px !important;\n",
       "}\n",
       "</style>\n",
       "<span class=\"this_nb_title\">SimpleG-US</span>"
      ],
      "text/plain": [
       "<IPython.core.display.HTML object>"
      ]
     },
     "metadata": {},
     "output_type": "display_data"
    },
    {
     "data": {
      "application/vnd.jupyter.widget-view+json": {
       "model_id": "9cddeae1e7544e54ad53ff1950466633",
       "version_major": 2,
       "version_minor": 0
      },
      "text/plain": [
       "Tab(children=(VBox(children=(Accordion(children=(VBox(children=(VBox(children=(VBox(children=(Dropdown(descrip…"
      ]
     },
     "metadata": {},
     "output_type": "display_data"
    }
   ],
   "source": [
    "#Import from scripts folder\n",
    "from scripts import model      as sg_model\n",
    "from scripts import view       as sg_view\n",
    "from scripts import controller as sg_controller\n",
    "\n",
    "from IPython.display import HTML\n",
    "\n",
    "display(HTML(filename='style.html'))  # Generic app appearance \n",
    "display(HTML(filename='header.html')) # Notebook-specific title and style\n",
    "\n",
    "# Create MVC objects\n",
    "model = sg_model.Model()\n",
    "view  = sg_view.View()\n",
    "ctrl  = sg_controller.Controller(log_mode=0) # 0=none 1=info 2=debug\n",
    "\n",
    "# Inform MVC objects of each other\n",
    "model.intro(view,ctrl)\n",
    "view.intro(model,ctrl)\n",
    "ctrl.intro(model,view)\n",
    "\n",
    "# Run the notebook\n",
    "ctrl.start()"
   ]
  },
  {
   "cell_type": "code",
   "execution_count": 2,
   "metadata": {},
   "outputs": [],
   "source": [
    "import sqlite3\n",
    "import os\n",
    "\n",
    "dbfile =os.popen(\"echo $HOME\").read().rstrip('\\n') + \"/SimpleGTool/DatabaseFile(DONOTDELETE).db\"\n",
    "conn = sqlite3.connect(dbfile)\n",
    "cursor = conn.cursor()\n",
    "#cursor.execute(\"INSERT INTO jobs (job_id,model_type,name,description,status) VALUES('4321','Model Type','Name of the Model','Description','STATUS')\")\n",
    "#Commit is important to save the data in the table\n",
    "conn.commit()\n",
    "cursor.close()\n",
    "conn.close()"
   ]
  },
  {
   "cell_type": "code",
   "execution_count": 3,
   "metadata": {},
   "outputs": [
    {
     "name": "stdout",
     "output_type": "stream",
     "text": [
      "===== Job submission to Stampede2 cluster =====\n",
      "> JOB submission parameters : \n",
      "{'jobname': 'test1'}\n",
      "CUR\n",
      "JOBID IN CNJ\n",
      "7\n",
      "IN HERE!\n",
      "update SIMPLEJobs set jobname = \"test1\" where jobid = \"7\"; \n",
      "\n",
      "cp /home/mygeohub/sachdevg//custom.cmf /home/mygeohub/sachdevg/SimpleGTool/job/7/outputs\n",
      "cp -r /home/mygeohub/sachdevg/simpleg/inputs/AllCrops/supp_files /home/mygeohub/sachdevg/SimpleGTool/job/7\n",
      "jobcmd: submit -w 300 --detach runSIMPLE_US-r112 AllCrops -cmf custom.cmf\n",
      "\n",
      "> Job submission command : \n",
      "submit -w 300 --detach runSIMPLE_US-r112 AllCrops -cmf custom.cmf\n",
      "[ b'Run 117501 registered 1 job instance. Sun Jun 20 21:45:42 2021\\nDetaching from run 00117501.\\n    Check run status with the command: submit --status 117501\\n       Terminate run with the command: submit --kill 117501\\n   Re-connect to run with the command: submit --attach 117501\\n' ]\n"
     ]
    },
    {
     "ename": "TypeError",
     "evalue": "a bytes-like object is required, not 'str'",
     "output_type": "error",
     "traceback": [
      "\u001b[0;31m---------------------------------------------------------------------------\u001b[0m",
      "\u001b[0;31mTypeError\u001b[0m                                 Traceback (most recent call last)",
      "\u001b[0;32m<ipython-input-3-e1d88486a357>\u001b[0m in \u001b[0;36m<module>\u001b[0;34m\u001b[0m\n\u001b[1;32m      1\u001b[0m \u001b[0;32mfrom\u001b[0m \u001b[0mscripts\u001b[0m\u001b[0;34m.\u001b[0m\u001b[0mJobManager\u001b[0m \u001b[0;32mimport\u001b[0m \u001b[0;34m*\u001b[0m\u001b[0;34m\u001b[0m\u001b[0;34m\u001b[0m\u001b[0m\n\u001b[1;32m      2\u001b[0m \u001b[0mtest\u001b[0m \u001b[0;34m=\u001b[0m \u001b[0mJobManager\u001b[0m\u001b[0;34m(\u001b[0m\u001b[0;34m{\u001b[0m\u001b[0;34m'jobname'\u001b[0m\u001b[0;34m:\u001b[0m\u001b[0;34m'test1'\u001b[0m\u001b[0;34m}\u001b[0m\u001b[0;34m)\u001b[0m\u001b[0;34m\u001b[0m\u001b[0;34m\u001b[0m\u001b[0m\n\u001b[0;32m----> 3\u001b[0;31m \u001b[0mprint\u001b[0m\u001b[0;34m(\u001b[0m\u001b[0mtest\u001b[0m\u001b[0;34m.\u001b[0m\u001b[0msubmitJob\u001b[0m\u001b[0;34m(\u001b[0m\u001b[0mmodeltype\u001b[0m\u001b[0;34m=\u001b[0m\u001b[0;34m'Custom AllCrops'\u001b[0m\u001b[0;34m)\u001b[0m\u001b[0;34m)\u001b[0m\u001b[0;34m\u001b[0m\u001b[0;34m\u001b[0m\u001b[0m\n\u001b[0m",
      "\u001b[0;32m~/simpleg/scripts/JobManager.py\u001b[0m in \u001b[0;36msubmitJob\u001b[0;34m(self, modeltype)\u001b[0m\n\u001b[1;32m    140\u001b[0m         \u001b[0mret\u001b[0m \u001b[0;34m=\u001b[0m \u001b[0msubprocess\u001b[0m\u001b[0;34m.\u001b[0m\u001b[0mcheck_output\u001b[0m\u001b[0;34m(\u001b[0m\u001b[0mjobcmd\u001b[0m\u001b[0;34m.\u001b[0m\u001b[0msplit\u001b[0m\u001b[0;34m(\u001b[0m\u001b[0;34m)\u001b[0m\u001b[0;34m)\u001b[0m\u001b[0;34m\u001b[0m\u001b[0;34m\u001b[0m\u001b[0m\n\u001b[1;32m    141\u001b[0m         \u001b[0mprint\u001b[0m\u001b[0;34m(\u001b[0m\u001b[0;34m\"[\"\u001b[0m\u001b[0;34m,\u001b[0m \u001b[0mret\u001b[0m\u001b[0;34m,\u001b[0m \u001b[0;34m\"]\"\u001b[0m\u001b[0;34m)\u001b[0m\u001b[0;34m\u001b[0m\u001b[0;34m\u001b[0m\u001b[0m\n\u001b[0;32m--> 142\u001b[0;31m         \u001b[0;32mif\u001b[0m \u001b[0;34m'Detaching from run'\u001b[0m \u001b[0;32mnot\u001b[0m \u001b[0;32min\u001b[0m \u001b[0mret\u001b[0m\u001b[0;34m:\u001b[0m\u001b[0;34m\u001b[0m\u001b[0;34m\u001b[0m\u001b[0m\n\u001b[0m\u001b[1;32m    143\u001b[0m             \u001b[0;31m# job submission error\u001b[0m\u001b[0;34m\u001b[0m\u001b[0;34m\u001b[0m\u001b[0;34m\u001b[0m\u001b[0m\n\u001b[1;32m    144\u001b[0m             \u001b[0mself\u001b[0m\u001b[0;34m.\u001b[0m\u001b[0mdb\u001b[0m\u001b[0;34m.\u001b[0m\u001b[0mupdateJobStatus\u001b[0m\u001b[0;34m(\u001b[0m\u001b[0mjobid\u001b[0m\u001b[0;34m,\u001b[0m \u001b[0;34m'Failed'\u001b[0m\u001b[0;34m)\u001b[0m\u001b[0;34m\u001b[0m\u001b[0;34m\u001b[0m\u001b[0m\n",
      "\u001b[0;31mTypeError\u001b[0m: a bytes-like object is required, not 'str'"
     ]
    }
   ],
   "source": [
    "from scripts.JobManager import *\n",
    "test = JobManager({'jobname':'test1'})\n",
    "print(test.submitJob(modeltype='Custom AllCrops'))"
   ]
  },
  {
   "cell_type": "code",
   "execution_count": 2,
   "metadata": {},
   "outputs": [
    {
     "data": {
      "text/plain": [
       "'/home/mygeohub/sachdevg'"
      ]
     },
     "execution_count": 2,
     "metadata": {},
     "output_type": "execute_result"
    }
   ],
   "source": [
    "os.path.expanduser(\"~\")"
   ]
  },
  {
   "cell_type": "code",
   "execution_count": 1,
   "metadata": {},
   "outputs": [],
   "source": [
    "import sys\n",
    "import os\n",
    "from osgeo import ogr\n",
    "from qgis.core import (\n",
    "     QgsApplication,\n",
    "     QgsProcessingFeedback,\n",
    "     QgsVectorLayer\n",
    ")\n",
    "from qgis.analysis import QgsNativeAlgorithms"
   ]
  },
  {
   "cell_type": "code",
   "execution_count": null,
   "metadata": {},
   "outputs": [],
   "source": []
  }
 ],
 "metadata": {
  "kernelspec": {
   "display_name": "Python [conda env:qgis]",
   "language": "python",
   "name": "conda-env-qgis-py"
  },
  "language_info": {
   "codemirror_mode": {
    "name": "ipython",
    "version": 3
   },
   "file_extension": ".py",
   "mimetype": "text/x-python",
   "name": "python",
   "nbconvert_exporter": "python",
   "pygments_lexer": "ipython3",
   "version": "3.8.3"
  }
 },
 "nbformat": 4,
 "nbformat_minor": 4
}
